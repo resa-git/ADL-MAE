{
 "cells": [
  {
   "cell_type": "code",
   "execution_count": null,
   "id": "6e4623c1-ad34-432b-b728-72fcf07f061c",
   "metadata": {},
   "outputs": [],
   "source": []
  },
  {
   "cell_type": "code",
   "execution_count": null,
   "id": "2e89b154-9e1f-4d3d-a6e6-0ba247c9af18",
   "metadata": {},
   "outputs": [],
   "source": []
  },
  {
   "cell_type": "code",
   "execution_count": null,
   "id": "5e757d06-3b85-4881-a48a-a230da877e9f",
   "metadata": {},
   "outputs": [],
   "source": []
  },
  {
   "cell_type": "code",
   "execution_count": null,
   "id": "739c402f-f4e2-421c-92d8-da5e926cafc2",
   "metadata": {},
   "outputs": [],
   "source": []
  },
  {
   "cell_type": "code",
   "execution_count": null,
   "id": "698b00ce-b478-470d-b717-4c3b4828142b",
   "metadata": {},
   "outputs": [],
   "source": [
    "class MaskedAutoencoderViT(nn.Module):\n",
    "    def __init__(self, patch_size=16, encoder_embed_dim=768, encoder_depth=12, encoder_num_heads=12,\n",
    "        decoder_embed_dim=512, decoder_depth=8, decoder_num_heads=16,\n",
    "        mlp_ratio=4, norm_layer=partial(nn.LayerNorm, eps=1e-6)):\n",
    "        super().__init()\n",
    "        self.encoder = MaskedEncoderViT()\n",
    "        self.decoder = MaskedDecoderViT()"
   ]
  },
  {
   "cell_type": "code",
   "execution_count": 2,
   "id": "37e3ae3a-b4eb-41e9-8c9d-541a3cbc79f2",
   "metadata": {},
   "outputs": [
    {
     "ename": "NameError",
     "evalue": "name 'MaskedAutoencoderViT' is not defined",
     "output_type": "error",
     "traceback": [
      "\u001b[1;31m---------------------------------------------------------------------------\u001b[0m",
      "\u001b[1;31mNameError\u001b[0m                                 Traceback (most recent call last)",
      "Input \u001b[1;32mIn [2]\u001b[0m, in \u001b[0;36m<cell line: 1>\u001b[1;34m()\u001b[0m\n\u001b[1;32m----> 1\u001b[0m model \u001b[38;5;241m=\u001b[39m \u001b[43mMaskedAutoencoderViT\u001b[49m(\n\u001b[0;32m      2\u001b[0m         patch_size\u001b[38;5;241m=\u001b[39m\u001b[38;5;241m16\u001b[39m, \n\u001b[0;32m      3\u001b[0m         encoder_embed_dim\u001b[38;5;241m=\u001b[39m\u001b[38;5;241m768\u001b[39m, encoder_depth\u001b[38;5;241m=\u001b[39m\u001b[38;5;241m12\u001b[39m, encoder_num_heads\u001b[38;5;241m=\u001b[39m\u001b[38;5;241m12\u001b[39m,\n\u001b[0;32m      4\u001b[0m         decoder_embed_dim\u001b[38;5;241m=\u001b[39m\u001b[38;5;241m512\u001b[39m, decoder_depth\u001b[38;5;241m=\u001b[39m\u001b[38;5;241m8\u001b[39m, decoder_num_heads\u001b[38;5;241m=\u001b[39m\u001b[38;5;241m16\u001b[39m,\n\u001b[0;32m      5\u001b[0m         mlp_ratio\u001b[38;5;241m=\u001b[39m\u001b[38;5;241m4\u001b[39m, norm_layer\u001b[38;5;241m=\u001b[39mpartial(nn\u001b[38;5;241m.\u001b[39mLayerNorm, eps\u001b[38;5;241m=\u001b[39m\u001b[38;5;241m1e-6\u001b[39m), \u001b[38;5;241m*\u001b[39m\u001b[38;5;241m*\u001b[39mkwargs)\n",
      "\u001b[1;31mNameError\u001b[0m: name 'MaskedAutoencoderViT' is not defined"
     ]
    }
   ],
   "source": [
    "model = MaskedAutoencoderViT(\n",
    "        patch_size=16, \n",
    "        encoder_embed_dim=768, encoder_depth=12, encoder_num_heads=12,\n",
    "        decoder_embed_dim=512, decoder_depth=8, decoder_num_heads=16,\n",
    "        mlp_ratio=4, norm_layer=partial(nn.LayerNorm, eps=1e-6), **kwargs)"
   ]
  },
  {
   "cell_type": "code",
   "execution_count": 1,
   "id": "f6064c3e-1046-4abb-a851-82177de25c40",
   "metadata": {},
   "outputs": [],
   "source": [
    "# class MaskedAutoencoderViT(MaskedAutoencoderViT):\n",
    "#     def __init__(self,\n",
    "#                  img_size=224, \n",
    "#                  patch_size=16, \n",
    "#                  encoder_in_chans=3, \n",
    "#                  encoder_num_classes=0, \n",
    "#                  encoder_embed_dim=768, \n",
    "#                  encoder_depth=12,\n",
    "#                  encoder_num_heads=12, \n",
    "#                  decoder_num_classes=768, \n",
    "#                  decoder_embed_dim=512, \n",
    "#                  decoder_depth=8,\n",
    "#                  decoder_num_heads=8, \n",
    "#                  mlp_ratio=4., \n",
    "#                  qkv_bias=False, \n",
    "#                  qk_scale=None, \n",
    "#                  drop_rate=0., \n",
    "#                  attn_drop_rate=0.,\n",
    "#                  drop_path_rate=0., \n",
    "#                  norm_layer=nn.LayerNorm, \n",
    "#                  init_values=0.,\n",
    "#                  use_learnable_pos_emb=False,):\n",
    "#         super().__init__()\n",
    "    \n",
    "    "
   ]
  },
  {
   "cell_type": "code",
   "execution_count": null,
   "id": "e1eeaf6f-82bd-4ce2-81bd-9c1803bc9dac",
   "metadata": {},
   "outputs": [],
   "source": [
    "\n",
    "        "
   ]
  },
  {
   "cell_type": "code",
   "execution_count": null,
   "id": "df827707-3680-48d5-8974-7d0047849408",
   "metadata": {},
   "outputs": [],
   "source": []
  },
  {
   "cell_type": "code",
   "execution_count": null,
   "id": "39821526-2ef5-432e-83a9-a593ea4519d3",
   "metadata": {},
   "outputs": [],
   "source": []
  }
 ],
 "metadata": {
  "kernelspec": {
   "display_name": "Python 3 (ipykernel)",
   "language": "python",
   "name": "python3"
  },
  "language_info": {
   "codemirror_mode": {
    "name": "ipython",
    "version": 3
   },
   "file_extension": ".py",
   "mimetype": "text/x-python",
   "name": "python",
   "nbconvert_exporter": "python",
   "pygments_lexer": "ipython3",
   "version": "3.9.12"
  }
 },
 "nbformat": 4,
 "nbformat_minor": 5
}
